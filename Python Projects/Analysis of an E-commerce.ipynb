{
 "cells": [
  {
   "cell_type": "markdown",
   "id": "Z88FfJc9lA_T",
   "metadata": {
    "id": "Z88FfJc9lA_T"
   },
   "source": [
    "## Analysis of an E-commerce "
   ]
  },
  {
   "cell_type": "markdown",
   "id": "hoq0NwA9lA_V",
   "metadata": {
    "id": "hoq0NwA9lA_V"
   },
   "source": [
    "### Project Objective\n",
    "\n",
    "This project aims to predict whether a user will like or dislike an item based on various features using Logistic Regression and KNN models. I will use the provided dataset where ratings are converted to binary: 1 for like and 0 for dislike.\n",
    "\n",
    "\n",
    "### Description of Fields\n",
    "\n",
    "In this dataset, each user has the ability to post a rating and review for the products they purchased. Additionally, other users can evaluate the initial rating and review by expressing their trust or distrust.\n",
    "\n",
    "This dataset includes a wealth of information for each user. Details such as their profile, ID, gender, city of birth, product ratings (on a scale of 1-5), reviews, and the prices of the products they purchased are all included. Moreover, for each product rating, we have information about the product name, ID, price, and category, the rating score, the timestamp of the rating and review, and the average helpfulness of the rating given by others (on a scale of 1-5).\n",
    "\n",
    "The structure of this dataset is represented in the header shown below.\n",
    "\n",
    "    \n",
    "\n",
    "\n",
    "* __userId__ - the user's id\n",
    "* __gender__ - the user's gender\n",
    "* __rating__ - the user's rating towards the item\n",
    "* __review__ - the user's review towards the item\n",
    "* __item__ - the item's name\n",
    "* __category__ - the category of the item\n",
    "* __helpfulness__ - the average helpfulness of this rating\n",
    "* __timestamp__ - the timestamp when the rating is created\n",
    "* __item_id__ - the item's id\n",
    "* __item_price__ - the item's price\n",
    "* __user_city__ - the city of user's birth"
   ]
  },
  {
   "cell_type": "code",
   "execution_count": 2,
   "id": "5840b6b6",
   "metadata": {},
   "outputs": [],
   "source": [
    "# Import libraries\n",
    "import pandas as pd\n",
    "import numpy as np\n",
    "import copy\n",
    "\n",
    "from sklearn.model_selection import train_test_split\n",
    "from sklearn import linear_model\n",
    "from sklearn.metrics import r2_score\n",
    "from sklearn.linear_model import LogisticRegression\n",
    "from sklearn.metrics import confusion_matrix, accuracy_score\n",
    "from sklearn.feature_selection import RFE\n",
    "from sklearn.preprocessing import OrdinalEncoder\n",
    "ord_enc = OrdinalEncoder()\n",
    "\n",
    "from sklearn.model_selection import cross_val_score\n",
    "from sklearn.model_selection import GridSearchCV\n",
    "\n",
    "from sklearn.datasets import make_classification\n",
    "from sklearn.neighbors import KNeighborsClassifier\n",
    "from sklearn.metrics import accuracy_score\n",
    "\n",
    "import seaborn as sns\n",
    "import matplotlib.pylab as plt\n",
    "%matplotlib inline\n",
    "\n",
    "import warnings\n",
    "warnings.filterwarnings(\"ignore\")\n",
    "\n",
    "# Read the dataset\n",
    "df = pd.read_csv('data/Analysis of an E-commerce.csv')"
   ]
  },
  {
   "cell_type": "markdown",
   "id": "5c3740ab",
   "metadata": {},
   "source": [
    "### 1. Explore the data"
   ]
  },
  {
   "cell_type": "code",
   "execution_count": 3,
   "id": "35741350",
   "metadata": {},
   "outputs": [
    {
     "data": {
      "text/plain": [
       "(2685, 11)"
      ]
     },
     "execution_count": 3,
     "metadata": {},
     "output_type": "execute_result"
    }
   ],
   "source": [
    "df.shape # Display the number of columns and rows"
   ]
  },
  {
   "cell_type": "code",
   "execution_count": 4,
   "id": "f30b1f1b",
   "metadata": {},
   "outputs": [
    {
     "data": {
      "text/html": [
       "<div>\n",
       "<style scoped>\n",
       "    .dataframe tbody tr th:only-of-type {\n",
       "        vertical-align: middle;\n",
       "    }\n",
       "\n",
       "    .dataframe tbody tr th {\n",
       "        vertical-align: top;\n",
       "    }\n",
       "\n",
       "    .dataframe thead th {\n",
       "        text-align: right;\n",
       "    }\n",
       "</style>\n",
       "<table border=\"1\" class=\"dataframe\">\n",
       "  <thead>\n",
       "    <tr style=\"text-align: right;\">\n",
       "      <th></th>\n",
       "      <th>userId</th>\n",
       "      <th>timestamp</th>\n",
       "      <th>review</th>\n",
       "      <th>item</th>\n",
       "      <th>helpfulness</th>\n",
       "      <th>gender</th>\n",
       "      <th>category</th>\n",
       "      <th>item_id</th>\n",
       "      <th>item_price</th>\n",
       "      <th>user_city</th>\n",
       "      <th>rating</th>\n",
       "    </tr>\n",
       "  </thead>\n",
       "  <tbody>\n",
       "    <tr>\n",
       "      <th>0</th>\n",
       "      <td>4081</td>\n",
       "      <td>71900</td>\n",
       "      <td>Not always McCrap</td>\n",
       "      <td>McDonald's</td>\n",
       "      <td>3</td>\n",
       "      <td>M</td>\n",
       "      <td>Restaurants &amp; Gourmet</td>\n",
       "      <td>41</td>\n",
       "      <td>30.74</td>\n",
       "      <td>4</td>\n",
       "      <td>1</td>\n",
       "    </tr>\n",
       "    <tr>\n",
       "      <th>1</th>\n",
       "      <td>4081</td>\n",
       "      <td>72000</td>\n",
       "      <td>I dropped the chalupa even before he told me to</td>\n",
       "      <td>Taco Bell</td>\n",
       "      <td>4</td>\n",
       "      <td>M</td>\n",
       "      <td>Restaurants &amp; Gourmet</td>\n",
       "      <td>74</td>\n",
       "      <td>108.30</td>\n",
       "      <td>4</td>\n",
       "      <td>0</td>\n",
       "    </tr>\n",
       "    <tr>\n",
       "      <th>2</th>\n",
       "      <td>4081</td>\n",
       "      <td>72000</td>\n",
       "      <td>The Wonderful World of Wendy</td>\n",
       "      <td>Wendy's</td>\n",
       "      <td>4</td>\n",
       "      <td>M</td>\n",
       "      <td>Restaurants &amp; Gourmet</td>\n",
       "      <td>84</td>\n",
       "      <td>69.00</td>\n",
       "      <td>4</td>\n",
       "      <td>1</td>\n",
       "    </tr>\n",
       "    <tr>\n",
       "      <th>3</th>\n",
       "      <td>4081</td>\n",
       "      <td>100399</td>\n",
       "      <td>They actually did it</td>\n",
       "      <td>South Park: Bigger, Longer &amp; Uncut</td>\n",
       "      <td>3</td>\n",
       "      <td>M</td>\n",
       "      <td>Movies</td>\n",
       "      <td>68</td>\n",
       "      <td>143.11</td>\n",
       "      <td>4</td>\n",
       "      <td>1</td>\n",
       "    </tr>\n",
       "    <tr>\n",
       "      <th>4</th>\n",
       "      <td>4081</td>\n",
       "      <td>100399</td>\n",
       "      <td>Hey! Gimme some pie!</td>\n",
       "      <td>American Pie</td>\n",
       "      <td>3</td>\n",
       "      <td>M</td>\n",
       "      <td>Movies</td>\n",
       "      <td>6</td>\n",
       "      <td>117.89</td>\n",
       "      <td>4</td>\n",
       "      <td>0</td>\n",
       "    </tr>\n",
       "  </tbody>\n",
       "</table>\n",
       "</div>"
      ],
      "text/plain": [
       "   userId  timestamp                                           review  \\\n",
       "0    4081      71900                                Not always McCrap   \n",
       "1    4081      72000  I dropped the chalupa even before he told me to   \n",
       "2    4081      72000                     The Wonderful World of Wendy   \n",
       "3    4081     100399                             They actually did it   \n",
       "4    4081     100399                             Hey! Gimme some pie!   \n",
       "\n",
       "                                 item  helpfulness gender  \\\n",
       "0                          McDonald's            3      M   \n",
       "1                           Taco Bell            4      M   \n",
       "2                             Wendy's            4      M   \n",
       "3  South Park: Bigger, Longer & Uncut            3      M   \n",
       "4                        American Pie            3      M   \n",
       "\n",
       "                category  item_id  item_price  user_city  rating  \n",
       "0  Restaurants & Gourmet       41       30.74          4       1  \n",
       "1  Restaurants & Gourmet       74      108.30          4       0  \n",
       "2  Restaurants & Gourmet       84       69.00          4       1  \n",
       "3                 Movies       68      143.11          4       1  \n",
       "4                 Movies        6      117.89          4       0  "
      ]
     },
     "execution_count": 4,
     "metadata": {},
     "output_type": "execute_result"
    }
   ],
   "source": [
    "df.head() # Display the first 5 rows of the dataframe"
   ]
  },
  {
   "cell_type": "code",
   "execution_count": 5,
   "id": "d0d74d6f",
   "metadata": {},
   "outputs": [
    {
     "data": {
      "text/html": [
       "<div>\n",
       "<style scoped>\n",
       "    .dataframe tbody tr th:only-of-type {\n",
       "        vertical-align: middle;\n",
       "    }\n",
       "\n",
       "    .dataframe tbody tr th {\n",
       "        vertical-align: top;\n",
       "    }\n",
       "\n",
       "    .dataframe thead th {\n",
       "        text-align: right;\n",
       "    }\n",
       "</style>\n",
       "<table border=\"1\" class=\"dataframe\">\n",
       "  <thead>\n",
       "    <tr style=\"text-align: right;\">\n",
       "      <th></th>\n",
       "      <th>userId</th>\n",
       "      <th>timestamp</th>\n",
       "      <th>helpfulness</th>\n",
       "      <th>item_id</th>\n",
       "      <th>item_price</th>\n",
       "      <th>user_city</th>\n",
       "      <th>rating</th>\n",
       "    </tr>\n",
       "  </thead>\n",
       "  <tbody>\n",
       "    <tr>\n",
       "      <th>count</th>\n",
       "      <td>2685.000000</td>\n",
       "      <td>2685.000000</td>\n",
       "      <td>2685.000000</td>\n",
       "      <td>2685.000000</td>\n",
       "      <td>2685.000000</td>\n",
       "      <td>2685.000000</td>\n",
       "      <td>2685.000000</td>\n",
       "    </tr>\n",
       "    <tr>\n",
       "      <th>mean</th>\n",
       "      <td>4673.237616</td>\n",
       "      <td>58812.687151</td>\n",
       "      <td>3.908007</td>\n",
       "      <td>43.478585</td>\n",
       "      <td>83.091650</td>\n",
       "      <td>19.456983</td>\n",
       "      <td>0.639851</td>\n",
       "    </tr>\n",
       "    <tr>\n",
       "      <th>std</th>\n",
       "      <td>3517.893437</td>\n",
       "      <td>37013.726118</td>\n",
       "      <td>0.289069</td>\n",
       "      <td>26.630426</td>\n",
       "      <td>42.227558</td>\n",
       "      <td>11.397281</td>\n",
       "      <td>0.480133</td>\n",
       "    </tr>\n",
       "    <tr>\n",
       "      <th>min</th>\n",
       "      <td>4.000000</td>\n",
       "      <td>10100.000000</td>\n",
       "      <td>3.000000</td>\n",
       "      <td>0.000000</td>\n",
       "      <td>12.000000</td>\n",
       "      <td>0.000000</td>\n",
       "      <td>0.000000</td>\n",
       "    </tr>\n",
       "    <tr>\n",
       "      <th>25%</th>\n",
       "      <td>1310.000000</td>\n",
       "      <td>22000.000000</td>\n",
       "      <td>4.000000</td>\n",
       "      <td>21.000000</td>\n",
       "      <td>49.000000</td>\n",
       "      <td>9.000000</td>\n",
       "      <td>0.000000</td>\n",
       "    </tr>\n",
       "    <tr>\n",
       "      <th>50%</th>\n",
       "      <td>4666.000000</td>\n",
       "      <td>52800.000000</td>\n",
       "      <td>4.000000</td>\n",
       "      <td>42.000000</td>\n",
       "      <td>73.650000</td>\n",
       "      <td>19.000000</td>\n",
       "      <td>1.000000</td>\n",
       "    </tr>\n",
       "    <tr>\n",
       "      <th>75%</th>\n",
       "      <td>7651.000000</td>\n",
       "      <td>91000.000000</td>\n",
       "      <td>4.000000</td>\n",
       "      <td>67.000000</td>\n",
       "      <td>129.820000</td>\n",
       "      <td>28.000000</td>\n",
       "      <td>1.000000</td>\n",
       "    </tr>\n",
       "    <tr>\n",
       "      <th>max</th>\n",
       "      <td>10779.000000</td>\n",
       "      <td>123199.000000</td>\n",
       "      <td>4.000000</td>\n",
       "      <td>88.000000</td>\n",
       "      <td>149.000000</td>\n",
       "      <td>39.000000</td>\n",
       "      <td>1.000000</td>\n",
       "    </tr>\n",
       "  </tbody>\n",
       "</table>\n",
       "</div>"
      ],
      "text/plain": [
       "             userId      timestamp  helpfulness      item_id   item_price  \\\n",
       "count   2685.000000    2685.000000  2685.000000  2685.000000  2685.000000   \n",
       "mean    4673.237616   58812.687151     3.908007    43.478585    83.091650   \n",
       "std     3517.893437   37013.726118     0.289069    26.630426    42.227558   \n",
       "min        4.000000   10100.000000     3.000000     0.000000    12.000000   \n",
       "25%     1310.000000   22000.000000     4.000000    21.000000    49.000000   \n",
       "50%     4666.000000   52800.000000     4.000000    42.000000    73.650000   \n",
       "75%     7651.000000   91000.000000     4.000000    67.000000   129.820000   \n",
       "max    10779.000000  123199.000000     4.000000    88.000000   149.000000   \n",
       "\n",
       "         user_city       rating  \n",
       "count  2685.000000  2685.000000  \n",
       "mean     19.456983     0.639851  \n",
       "std      11.397281     0.480133  \n",
       "min       0.000000     0.000000  \n",
       "25%       9.000000     0.000000  \n",
       "50%      19.000000     1.000000  \n",
       "75%      28.000000     1.000000  \n",
       "max      39.000000     1.000000  "
      ]
     },
     "execution_count": 5,
     "metadata": {},
     "output_type": "execute_result"
    }
   ],
   "source": [
    "df.describe() # Display the statistical summary of the dataframe"
   ]
  },
  {
   "cell_type": "code",
   "execution_count": 6,
   "id": "5f76e7be",
   "metadata": {},
   "outputs": [
    {
     "data": {
      "text/plain": [
       "Index(['userId', 'timestamp', 'review', 'item', 'helpfulness', 'gender',\n",
       "       'category', 'item_id', 'item_price', 'user_city', 'rating'],\n",
       "      dtype='object')"
      ]
     },
     "execution_count": 6,
     "metadata": {},
     "output_type": "execute_result"
    }
   ],
   "source": [
    "df.columns # Display the dataframe columns"
   ]
  },
  {
   "cell_type": "code",
   "execution_count": 7,
   "id": "cf25451f",
   "metadata": {},
   "outputs": [
    {
     "name": "stdout",
     "output_type": "stream",
     "text": [
      "<class 'pandas.core.frame.DataFrame'>\n",
      "RangeIndex: 2685 entries, 0 to 2684\n",
      "Data columns (total 11 columns):\n",
      " #   Column       Non-Null Count  Dtype  \n",
      "---  ------       --------------  -----  \n",
      " 0   userId       2685 non-null   int64  \n",
      " 1   timestamp    2685 non-null   int64  \n",
      " 2   review       2685 non-null   object \n",
      " 3   item         2685 non-null   object \n",
      " 4   helpfulness  2685 non-null   int64  \n",
      " 5   gender       2685 non-null   object \n",
      " 6   category     2685 non-null   object \n",
      " 7   item_id      2685 non-null   int64  \n",
      " 8   item_price   2685 non-null   float64\n",
      " 9   user_city    2685 non-null   int64  \n",
      " 10  rating       2685 non-null   int64  \n",
      "dtypes: float64(1), int64(6), object(4)\n",
      "memory usage: 230.9+ KB\n"
     ]
    }
   ],
   "source": [
    "df.info() # Display the dataframe information"
   ]
  },
  {
   "cell_type": "markdown",
   "id": "06a9fe54",
   "metadata": {},
   "source": [
    "### Clean the data if necessary. For example, remove abnormal instanaces and replace missing values."
   ]
  },
  {
   "cell_type": "code",
   "execution_count": 8,
   "id": "b472f701",
   "metadata": {},
   "outputs": [
    {
     "data": {
      "text/plain": [
       "userId         0\n",
       "timestamp      0\n",
       "review         0\n",
       "item           0\n",
       "helpfulness    0\n",
       "gender         0\n",
       "category       0\n",
       "item_id        0\n",
       "item_price     0\n",
       "user_city      0\n",
       "rating         0\n",
       "dtype: int64"
      ]
     },
     "execution_count": 8,
     "metadata": {},
     "output_type": "execute_result"
    }
   ],
   "source": [
    "df.isna().sum() # Detect NaN values in the data"
   ]
  },
  {
   "cell_type": "code",
   "execution_count": 9,
   "id": "4cce0048",
   "metadata": {},
   "outputs": [
    {
     "data": {
      "text/plain": [
       "userId         0\n",
       "timestamp      0\n",
       "review         0\n",
       "item           0\n",
       "helpfulness    0\n",
       "gender         0\n",
       "category       0\n",
       "item_id        0\n",
       "item_price     0\n",
       "user_city      0\n",
       "rating         0\n",
       "dtype: int64"
      ]
     },
     "execution_count": 9,
     "metadata": {},
     "output_type": "execute_result"
    }
   ],
   "source": [
    "df.isnull().sum() # Detect null values in the data"
   ]
  },
  {
   "cell_type": "markdown",
   "id": "9fccab5e",
   "metadata": {},
   "source": [
    "### 2. Convert object features into digit features by using an encoder"
   ]
  },
  {
   "cell_type": "code",
   "execution_count": 10,
   "id": "e2c57506",
   "metadata": {},
   "outputs": [],
   "source": [
    "# Encoder gender by using ord_enc.fit_transform to covert categorical variable to numerical variable\n",
    "df[\"gender_code\"] = ord_enc.fit_transform(df[[\"gender\"]]) "
   ]
  },
  {
   "cell_type": "code",
   "execution_count": 11,
   "id": "30172ab4",
   "metadata": {},
   "outputs": [],
   "source": [
    "# Encoder category by using ord_enc.fit_transform to covert categorical variable to numerical variable\n",
    "df[\"category_code\"] = ord_enc.fit_transform(df[[\"category\"]]) "
   ]
  },
  {
   "cell_type": "code",
   "execution_count": 12,
   "id": "03729163",
   "metadata": {},
   "outputs": [],
   "source": [
    "# Encoder review by using ord_enc.fit_transform to covert categorical variable to numerical variable\n",
    "df[\"review_code\"] = ord_enc.fit_transform(df[[\"review\"]]) "
   ]
  },
  {
   "cell_type": "code",
   "execution_count": 13,
   "id": "ab5e1ee9",
   "metadata": {},
   "outputs": [],
   "source": [
    "# Encoder item by using ord_enc.fit_transform to covert categorical variable to numerical variable\n",
    "df[\"item_code\"] = ord_enc.fit_transform(df[[\"item\"]]) "
   ]
  },
  {
   "cell_type": "markdown",
   "id": "7938f35f",
   "metadata": {},
   "source": [
    "### 3. Study the correlation between these features"
   ]
  },
  {
   "cell_type": "code",
   "execution_count": 14,
   "id": "73516364",
   "metadata": {},
   "outputs": [
    {
     "data": {
      "text/html": [
       "<div>\n",
       "<style scoped>\n",
       "    .dataframe tbody tr th:only-of-type {\n",
       "        vertical-align: middle;\n",
       "    }\n",
       "\n",
       "    .dataframe tbody tr th {\n",
       "        vertical-align: top;\n",
       "    }\n",
       "\n",
       "    .dataframe thead th {\n",
       "        text-align: right;\n",
       "    }\n",
       "</style>\n",
       "<table border=\"1\" class=\"dataframe\">\n",
       "  <thead>\n",
       "    <tr style=\"text-align: right;\">\n",
       "      <th></th>\n",
       "      <th>helpfulness</th>\n",
       "      <th>rating</th>\n",
       "    </tr>\n",
       "  </thead>\n",
       "  <tbody>\n",
       "    <tr>\n",
       "      <th>helpfulness</th>\n",
       "      <td>1.000000</td>\n",
       "      <td>-0.010622</td>\n",
       "    </tr>\n",
       "    <tr>\n",
       "      <th>rating</th>\n",
       "      <td>-0.010622</td>\n",
       "      <td>1.000000</td>\n",
       "    </tr>\n",
       "  </tbody>\n",
       "</table>\n",
       "</div>"
      ],
      "text/plain": [
       "             helpfulness    rating\n",
       "helpfulness     1.000000 -0.010622\n",
       "rating         -0.010622  1.000000"
      ]
     },
     "execution_count": 14,
     "metadata": {},
     "output_type": "execute_result"
    }
   ],
   "source": [
    "df[['helpfulness', 'rating']].corr() # Correlation between helpfulness and rating "
   ]
  },
  {
   "cell_type": "code",
   "execution_count": 15,
   "id": "c8ad2ea1",
   "metadata": {},
   "outputs": [
    {
     "data": {
      "text/html": [
       "<div>\n",
       "<style scoped>\n",
       "    .dataframe tbody tr th:only-of-type {\n",
       "        vertical-align: middle;\n",
       "    }\n",
       "\n",
       "    .dataframe tbody tr th {\n",
       "        vertical-align: top;\n",
       "    }\n",
       "\n",
       "    .dataframe thead th {\n",
       "        text-align: right;\n",
       "    }\n",
       "</style>\n",
       "<table border=\"1\" class=\"dataframe\">\n",
       "  <thead>\n",
       "    <tr style=\"text-align: right;\">\n",
       "      <th></th>\n",
       "      <th>gender_code</th>\n",
       "      <th>rating</th>\n",
       "    </tr>\n",
       "  </thead>\n",
       "  <tbody>\n",
       "    <tr>\n",
       "      <th>gender_code</th>\n",
       "      <td>1.000000</td>\n",
       "      <td>-0.022169</td>\n",
       "    </tr>\n",
       "    <tr>\n",
       "      <th>rating</th>\n",
       "      <td>-0.022169</td>\n",
       "      <td>1.000000</td>\n",
       "    </tr>\n",
       "  </tbody>\n",
       "</table>\n",
       "</div>"
      ],
      "text/plain": [
       "             gender_code    rating\n",
       "gender_code     1.000000 -0.022169\n",
       "rating         -0.022169  1.000000"
      ]
     },
     "execution_count": 15,
     "metadata": {},
     "output_type": "execute_result"
    }
   ],
   "source": [
    "df[['gender_code', 'rating']].corr() # Correlation between gender and rating "
   ]
  },
  {
   "cell_type": "code",
   "execution_count": 16,
   "id": "feb9e066",
   "metadata": {},
   "outputs": [
    {
     "data": {
      "text/html": [
       "<div>\n",
       "<style scoped>\n",
       "    .dataframe tbody tr th:only-of-type {\n",
       "        vertical-align: middle;\n",
       "    }\n",
       "\n",
       "    .dataframe tbody tr th {\n",
       "        vertical-align: top;\n",
       "    }\n",
       "\n",
       "    .dataframe thead th {\n",
       "        text-align: right;\n",
       "    }\n",
       "</style>\n",
       "<table border=\"1\" class=\"dataframe\">\n",
       "  <thead>\n",
       "    <tr style=\"text-align: right;\">\n",
       "      <th></th>\n",
       "      <th>category_code</th>\n",
       "      <th>rating</th>\n",
       "    </tr>\n",
       "  </thead>\n",
       "  <tbody>\n",
       "    <tr>\n",
       "      <th>category_code</th>\n",
       "      <td>1.000000</td>\n",
       "      <td>-0.142479</td>\n",
       "    </tr>\n",
       "    <tr>\n",
       "      <th>rating</th>\n",
       "      <td>-0.142479</td>\n",
       "      <td>1.000000</td>\n",
       "    </tr>\n",
       "  </tbody>\n",
       "</table>\n",
       "</div>"
      ],
      "text/plain": [
       "               category_code    rating\n",
       "category_code       1.000000 -0.142479\n",
       "rating             -0.142479  1.000000"
      ]
     },
     "execution_count": 16,
     "metadata": {},
     "output_type": "execute_result"
    }
   ],
   "source": [
    "df[['category_code', 'rating']].corr() # Correlation between category and rating "
   ]
  },
  {
   "cell_type": "code",
   "execution_count": 17,
   "id": "43b36517",
   "metadata": {},
   "outputs": [
    {
     "data": {
      "text/html": [
       "<div>\n",
       "<style scoped>\n",
       "    .dataframe tbody tr th:only-of-type {\n",
       "        vertical-align: middle;\n",
       "    }\n",
       "\n",
       "    .dataframe tbody tr th {\n",
       "        vertical-align: top;\n",
       "    }\n",
       "\n",
       "    .dataframe thead th {\n",
       "        text-align: right;\n",
       "    }\n",
       "</style>\n",
       "<table border=\"1\" class=\"dataframe\">\n",
       "  <thead>\n",
       "    <tr style=\"text-align: right;\">\n",
       "      <th></th>\n",
       "      <th>review_code</th>\n",
       "      <th>rating</th>\n",
       "    </tr>\n",
       "  </thead>\n",
       "  <tbody>\n",
       "    <tr>\n",
       "      <th>review_code</th>\n",
       "      <td>1.000000</td>\n",
       "      <td>-0.041756</td>\n",
       "    </tr>\n",
       "    <tr>\n",
       "      <th>rating</th>\n",
       "      <td>-0.041756</td>\n",
       "      <td>1.000000</td>\n",
       "    </tr>\n",
       "  </tbody>\n",
       "</table>\n",
       "</div>"
      ],
      "text/plain": [
       "             review_code    rating\n",
       "review_code     1.000000 -0.041756\n",
       "rating         -0.041756  1.000000"
      ]
     },
     "execution_count": 17,
     "metadata": {},
     "output_type": "execute_result"
    }
   ],
   "source": [
    "df[['review_code', 'rating']].corr() # Correlation between review and rating "
   ]
  },
  {
   "cell_type": "markdown",
   "id": "5d56234e",
   "metadata": {},
   "source": [
    "#### Analysis\n",
    "#### Highest correlation \n",
    "According to the correlation results, the most correlated feature regarding rating is -0.142479. This result shows a strong negative correlation between category and rating in comparison to the other features. \n",
    "\n",
    "#### Lowest correlation\n",
    "The correlation coefficient of -0.010622 (nearest to zero) is the lowest compared to other features. It indicates a significantly weak correlation between helpfulness and rating.\n",
    "\n",
    "#### Overall\n",
    "We can conclude that the order from the highest correlation to the lowest correlation is category, review, gender, and helpfulness. All of the correlated features regarding rating are negative meaning that a negative correlation between these features with ratings. Furthermore, the result demonstrates that the slope will be downward. It implies that the higher the one variable is, the lower the other variable."
   ]
  },
  {
   "cell_type": "markdown",
   "id": "8c72c96a",
   "metadata": {},
   "source": [
    "### Create and re-name some columns of the copy dataset "
   ]
  },
  {
   "cell_type": "code",
   "execution_count": 18,
   "id": "55381b92",
   "metadata": {},
   "outputs": [
    {
     "data": {
      "text/html": [
       "<div>\n",
       "<style scoped>\n",
       "    .dataframe tbody tr th:only-of-type {\n",
       "        vertical-align: middle;\n",
       "    }\n",
       "\n",
       "    .dataframe tbody tr th {\n",
       "        vertical-align: top;\n",
       "    }\n",
       "\n",
       "    .dataframe thead th {\n",
       "        text-align: right;\n",
       "    }\n",
       "</style>\n",
       "<table border=\"1\" class=\"dataframe\">\n",
       "  <thead>\n",
       "    <tr style=\"text-align: right;\">\n",
       "      <th></th>\n",
       "      <th>userId</th>\n",
       "      <th>timestamp</th>\n",
       "      <th>helpfulness</th>\n",
       "      <th>item_id</th>\n",
       "      <th>item_price</th>\n",
       "      <th>user_city</th>\n",
       "      <th>rating</th>\n",
       "      <th>gender</th>\n",
       "      <th>category</th>\n",
       "      <th>review</th>\n",
       "      <th>item</th>\n",
       "    </tr>\n",
       "  </thead>\n",
       "  <tbody>\n",
       "    <tr>\n",
       "      <th>0</th>\n",
       "      <td>4081</td>\n",
       "      <td>71900</td>\n",
       "      <td>3</td>\n",
       "      <td>41</td>\n",
       "      <td>30.74</td>\n",
       "      <td>4</td>\n",
       "      <td>1</td>\n",
       "      <td>1.0</td>\n",
       "      <td>8.0</td>\n",
       "      <td>1618.0</td>\n",
       "      <td>37.0</td>\n",
       "    </tr>\n",
       "    <tr>\n",
       "      <th>1</th>\n",
       "      <td>4081</td>\n",
       "      <td>72000</td>\n",
       "      <td>4</td>\n",
       "      <td>74</td>\n",
       "      <td>108.30</td>\n",
       "      <td>4</td>\n",
       "      <td>0</td>\n",
       "      <td>1.0</td>\n",
       "      <td>8.0</td>\n",
       "      <td>1125.0</td>\n",
       "      <td>67.0</td>\n",
       "    </tr>\n",
       "    <tr>\n",
       "      <th>2</th>\n",
       "      <td>4081</td>\n",
       "      <td>72000</td>\n",
       "      <td>4</td>\n",
       "      <td>84</td>\n",
       "      <td>69.00</td>\n",
       "      <td>4</td>\n",
       "      <td>1</td>\n",
       "      <td>1.0</td>\n",
       "      <td>8.0</td>\n",
       "      <td>2185.0</td>\n",
       "      <td>77.0</td>\n",
       "    </tr>\n",
       "    <tr>\n",
       "      <th>3</th>\n",
       "      <td>4081</td>\n",
       "      <td>100399</td>\n",
       "      <td>3</td>\n",
       "      <td>68</td>\n",
       "      <td>143.11</td>\n",
       "      <td>4</td>\n",
       "      <td>1</td>\n",
       "      <td>1.0</td>\n",
       "      <td>5.0</td>\n",
       "      <td>2243.0</td>\n",
       "      <td>61.0</td>\n",
       "    </tr>\n",
       "    <tr>\n",
       "      <th>4</th>\n",
       "      <td>4081</td>\n",
       "      <td>100399</td>\n",
       "      <td>3</td>\n",
       "      <td>6</td>\n",
       "      <td>117.89</td>\n",
       "      <td>4</td>\n",
       "      <td>0</td>\n",
       "      <td>1.0</td>\n",
       "      <td>5.0</td>\n",
       "      <td>1033.0</td>\n",
       "      <td>5.0</td>\n",
       "    </tr>\n",
       "    <tr>\n",
       "      <th>...</th>\n",
       "      <td>...</td>\n",
       "      <td>...</td>\n",
       "      <td>...</td>\n",
       "      <td>...</td>\n",
       "      <td>...</td>\n",
       "      <td>...</td>\n",
       "      <td>...</td>\n",
       "      <td>...</td>\n",
       "      <td>...</td>\n",
       "      <td>...</td>\n",
       "      <td>...</td>\n",
       "    </tr>\n",
       "    <tr>\n",
       "      <th>2680</th>\n",
       "      <td>2445</td>\n",
       "      <td>22000</td>\n",
       "      <td>3</td>\n",
       "      <td>9</td>\n",
       "      <td>111.00</td>\n",
       "      <td>5</td>\n",
       "      <td>1</td>\n",
       "      <td>1.0</td>\n",
       "      <td>5.0</td>\n",
       "      <td>968.0</td>\n",
       "      <td>8.0</td>\n",
       "    </tr>\n",
       "    <tr>\n",
       "      <th>2681</th>\n",
       "      <td>2445</td>\n",
       "      <td>30700</td>\n",
       "      <td>3</td>\n",
       "      <td>50</td>\n",
       "      <td>25.00</td>\n",
       "      <td>5</td>\n",
       "      <td>1</td>\n",
       "      <td>1.0</td>\n",
       "      <td>8.0</td>\n",
       "      <td>920.0</td>\n",
       "      <td>45.0</td>\n",
       "    </tr>\n",
       "    <tr>\n",
       "      <th>2682</th>\n",
       "      <td>2445</td>\n",
       "      <td>61500</td>\n",
       "      <td>3</td>\n",
       "      <td>26</td>\n",
       "      <td>97.53</td>\n",
       "      <td>5</td>\n",
       "      <td>1</td>\n",
       "      <td>1.0</td>\n",
       "      <td>5.0</td>\n",
       "      <td>968.0</td>\n",
       "      <td>24.0</td>\n",
       "    </tr>\n",
       "    <tr>\n",
       "      <th>2683</th>\n",
       "      <td>2445</td>\n",
       "      <td>100500</td>\n",
       "      <td>4</td>\n",
       "      <td>79</td>\n",
       "      <td>27.00</td>\n",
       "      <td>5</td>\n",
       "      <td>1</td>\n",
       "      <td>1.0</td>\n",
       "      <td>1.0</td>\n",
       "      <td>372.0</td>\n",
       "      <td>72.0</td>\n",
       "    </tr>\n",
       "    <tr>\n",
       "      <th>2684</th>\n",
       "      <td>2445</td>\n",
       "      <td>101400</td>\n",
       "      <td>3</td>\n",
       "      <td>52</td>\n",
       "      <td>38.00</td>\n",
       "      <td>5</td>\n",
       "      <td>1</td>\n",
       "      <td>1.0</td>\n",
       "      <td>7.0</td>\n",
       "      <td>959.0</td>\n",
       "      <td>47.0</td>\n",
       "    </tr>\n",
       "  </tbody>\n",
       "</table>\n",
       "<p>2685 rows × 11 columns</p>\n",
       "</div>"
      ],
      "text/plain": [
       "      userId  timestamp  helpfulness  item_id  item_price  user_city  rating  \\\n",
       "0       4081      71900            3       41       30.74          4       1   \n",
       "1       4081      72000            4       74      108.30          4       0   \n",
       "2       4081      72000            4       84       69.00          4       1   \n",
       "3       4081     100399            3       68      143.11          4       1   \n",
       "4       4081     100399            3        6      117.89          4       0   \n",
       "...      ...        ...          ...      ...         ...        ...     ...   \n",
       "2680    2445      22000            3        9      111.00          5       1   \n",
       "2681    2445      30700            3       50       25.00          5       1   \n",
       "2682    2445      61500            3       26       97.53          5       1   \n",
       "2683    2445     100500            4       79       27.00          5       1   \n",
       "2684    2445     101400            3       52       38.00          5       1   \n",
       "\n",
       "      gender  category  review  item  \n",
       "0        1.0       8.0  1618.0  37.0  \n",
       "1        1.0       8.0  1125.0  67.0  \n",
       "2        1.0       8.0  2185.0  77.0  \n",
       "3        1.0       5.0  2243.0  61.0  \n",
       "4        1.0       5.0  1033.0   5.0  \n",
       "...      ...       ...     ...   ...  \n",
       "2680     1.0       5.0   968.0   8.0  \n",
       "2681     1.0       8.0   920.0  45.0  \n",
       "2682     1.0       5.0   968.0  24.0  \n",
       "2683     1.0       1.0   372.0  72.0  \n",
       "2684     1.0       7.0   959.0  47.0  \n",
       "\n",
       "[2685 rows x 11 columns]"
      ]
     },
     "execution_count": 18,
     "metadata": {},
     "output_type": "execute_result"
    }
   ],
   "source": [
    "# Create a shallow copy of the original dataframe\n",
    "df_new = copy.copy(df) \n",
    "\n",
    "# Drop the original \"gender\", \"category\", \"review\", \"item\" columns\n",
    "df_new = df_new.drop([\"gender\", \"category\", \"review\", \"item\"], axis = 1) \n",
    "\n",
    "# Rename the these \"gender_coded\", \"category_coded\", \"review_coded\", \"item_code\" after tranforming\n",
    "df_new.rename(columns = {'gender_code':'gender', 'category_code':'category', 'review_code': 'review', 'item_code': 'item'}, inplace = True)\n",
    "df_new"
   ]
  },
  {
   "cell_type": "markdown",
   "id": "f6b7191a",
   "metadata": {},
   "source": [
    "### 4. Split the dataset and train a logistic regression model to predict 'rating' based on other features. Evaluate the accuracy of your model."
   ]
  },
  {
   "cell_type": "code",
   "execution_count": 19,
   "id": "349a91c2",
   "metadata": {},
   "outputs": [
    {
     "name": "stdout",
     "output_type": "stream",
     "text": [
      "(2148, 11)\n",
      "(537, 11)\n"
     ]
    }
   ],
   "source": [
    "# Split the data into training(80%) and testing data (20%) and use random_state=142\n",
    "train, test = train_test_split(df_new, test_size=0.2, random_state=142)\n",
    "print(train.shape)\n",
    "print(test.shape)"
   ]
  },
  {
   "cell_type": "code",
   "execution_count": 20,
   "id": "e15c8ee3",
   "metadata": {},
   "outputs": [
    {
     "name": "stdout",
     "output_type": "stream",
     "text": [
      "X_train shape:  (2148, 10)\n",
      "y_train shape:  (2148,)\n",
      "X_test shape:  (537, 10)\n",
      "y_test shape:  (537,)\n",
      "      userId  timestamp  helpfulness  item_id  item_price  user_city  gender  \\\n",
      "1207    1026     103100            4       67       71.52          2     1.0   \n",
      "0       4081      71900            3       41       30.74          4     1.0   \n",
      "1731    7216      11600            3       29       67.00         38     0.0   \n",
      "1834    8682      92800            4       79       27.00         24     1.0   \n",
      "1703    1599      30400            4       12       44.00          4     1.0   \n",
      "\n",
      "      category  review  item  \n",
      "1207       1.0  1946.0  60.0  \n",
      "0          8.0  1618.0  37.0  \n",
      "1731       5.0   860.0  27.0  \n",
      "1834       1.0  2516.0  72.0  \n",
      "1703       5.0   653.0  11.0  \n",
      "1207    1\n",
      "0       1\n",
      "1731    1\n",
      "1834    1\n",
      "1703    0\n",
      "Name: rating, dtype: int64\n"
     ]
    }
   ],
   "source": [
    "# Getting input data and targets for building prediction model\n",
    "X_train = train.drop(['rating'], axis=1)\n",
    "y_train = train['rating']\n",
    "X_test = test.drop(['rating'], axis=1)\n",
    "y_test = test['rating']\n",
    "\n",
    "print(\"X_train shape: \", X_train.shape)\n",
    "print(\"y_train shape: \", y_train.shape)\n",
    "print(\"X_test shape: \", X_test.shape)\n",
    "print(\"y_test shape: \", y_test.shape)\n",
    "print(X_train.head())\n",
    "print(y_train.head())"
   ]
  },
  {
   "cell_type": "code",
   "execution_count": 21,
   "id": "561b3659",
   "metadata": {},
   "outputs": [
    {
     "data": {
      "text/html": [
       "<style>#sk-container-id-1 {color: black;background-color: white;}#sk-container-id-1 pre{padding: 0;}#sk-container-id-1 div.sk-toggleable {background-color: white;}#sk-container-id-1 label.sk-toggleable__label {cursor: pointer;display: block;width: 100%;margin-bottom: 0;padding: 0.3em;box-sizing: border-box;text-align: center;}#sk-container-id-1 label.sk-toggleable__label-arrow:before {content: \"▸\";float: left;margin-right: 0.25em;color: #696969;}#sk-container-id-1 label.sk-toggleable__label-arrow:hover:before {color: black;}#sk-container-id-1 div.sk-estimator:hover label.sk-toggleable__label-arrow:before {color: black;}#sk-container-id-1 div.sk-toggleable__content {max-height: 0;max-width: 0;overflow: hidden;text-align: left;background-color: #f0f8ff;}#sk-container-id-1 div.sk-toggleable__content pre {margin: 0.2em;color: black;border-radius: 0.25em;background-color: #f0f8ff;}#sk-container-id-1 input.sk-toggleable__control:checked~div.sk-toggleable__content {max-height: 200px;max-width: 100%;overflow: auto;}#sk-container-id-1 input.sk-toggleable__control:checked~label.sk-toggleable__label-arrow:before {content: \"▾\";}#sk-container-id-1 div.sk-estimator input.sk-toggleable__control:checked~label.sk-toggleable__label {background-color: #d4ebff;}#sk-container-id-1 div.sk-label input.sk-toggleable__control:checked~label.sk-toggleable__label {background-color: #d4ebff;}#sk-container-id-1 input.sk-hidden--visually {border: 0;clip: rect(1px 1px 1px 1px);clip: rect(1px, 1px, 1px, 1px);height: 1px;margin: -1px;overflow: hidden;padding: 0;position: absolute;width: 1px;}#sk-container-id-1 div.sk-estimator {font-family: monospace;background-color: #f0f8ff;border: 1px dotted black;border-radius: 0.25em;box-sizing: border-box;margin-bottom: 0.5em;}#sk-container-id-1 div.sk-estimator:hover {background-color: #d4ebff;}#sk-container-id-1 div.sk-parallel-item::after {content: \"\";width: 100%;border-bottom: 1px solid gray;flex-grow: 1;}#sk-container-id-1 div.sk-label:hover label.sk-toggleable__label {background-color: #d4ebff;}#sk-container-id-1 div.sk-serial::before {content: \"\";position: absolute;border-left: 1px solid gray;box-sizing: border-box;top: 0;bottom: 0;left: 50%;z-index: 0;}#sk-container-id-1 div.sk-serial {display: flex;flex-direction: column;align-items: center;background-color: white;padding-right: 0.2em;padding-left: 0.2em;position: relative;}#sk-container-id-1 div.sk-item {position: relative;z-index: 1;}#sk-container-id-1 div.sk-parallel {display: flex;align-items: stretch;justify-content: center;background-color: white;position: relative;}#sk-container-id-1 div.sk-item::before, #sk-container-id-1 div.sk-parallel-item::before {content: \"\";position: absolute;border-left: 1px solid gray;box-sizing: border-box;top: 0;bottom: 0;left: 50%;z-index: -1;}#sk-container-id-1 div.sk-parallel-item {display: flex;flex-direction: column;z-index: 1;position: relative;background-color: white;}#sk-container-id-1 div.sk-parallel-item:first-child::after {align-self: flex-end;width: 50%;}#sk-container-id-1 div.sk-parallel-item:last-child::after {align-self: flex-start;width: 50%;}#sk-container-id-1 div.sk-parallel-item:only-child::after {width: 0;}#sk-container-id-1 div.sk-dashed-wrapped {border: 1px dashed gray;margin: 0 0.4em 0.5em 0.4em;box-sizing: border-box;padding-bottom: 0.4em;background-color: white;}#sk-container-id-1 div.sk-label label {font-family: monospace;font-weight: bold;display: inline-block;line-height: 1.2em;}#sk-container-id-1 div.sk-label-container {text-align: center;}#sk-container-id-1 div.sk-container {/* jupyter's `normalize.less` sets `[hidden] { display: none; }` but bootstrap.min.css set `[hidden] { display: none !important; }` so we also need the `!important` here to be able to override the default hidden behavior on the sphinx rendered scikit-learn.org. See: https://github.com/scikit-learn/scikit-learn/issues/21755 */display: inline-block !important;position: relative;}#sk-container-id-1 div.sk-text-repr-fallback {display: none;}</style><div id=\"sk-container-id-1\" class=\"sk-top-container\"><div class=\"sk-text-repr-fallback\"><pre>LogisticRegression()</pre><b>In a Jupyter environment, please rerun this cell to show the HTML representation or trust the notebook. <br />On GitHub, the HTML representation is unable to render, please try loading this page with nbviewer.org.</b></div><div class=\"sk-container\" hidden><div class=\"sk-item\"><div class=\"sk-estimator sk-toggleable\"><input class=\"sk-toggleable__control sk-hidden--visually\" id=\"sk-estimator-id-1\" type=\"checkbox\" checked><label for=\"sk-estimator-id-1\" class=\"sk-toggleable__label sk-toggleable__label-arrow\">LogisticRegression</label><div class=\"sk-toggleable__content\"><pre>LogisticRegression()</pre></div></div></div></div></div>"
      ],
      "text/plain": [
       "LogisticRegression()"
      ]
     },
     "execution_count": 21,
     "metadata": {},
     "output_type": "execute_result"
    }
   ],
   "source": [
    "# Training Logistic Regression model\n",
    "model = LogisticRegression()\n",
    "model.fit(X_train, y_train)"
   ]
  },
  {
   "cell_type": "code",
   "execution_count": 22,
   "id": "e1089ba2",
   "metadata": {},
   "outputs": [],
   "source": [
    "# Doing predictions on train and test set\n",
    "y_hat_train = model.predict(X_train)\n",
    "y_hat_test = model.predict(X_test)"
   ]
  },
  {
   "cell_type": "markdown",
   "id": "c8a08143",
   "metadata": {},
   "source": [
    "### Evaluation "
   ]
  },
  {
   "cell_type": "code",
   "execution_count": 23,
   "id": "30269768",
   "metadata": {},
   "outputs": [
    {
     "name": "stdout",
     "output_type": "stream",
     "text": [
      "Accuracy score on training set:  0.6317504655493482\n",
      "Accuracy score on testing set:  0.6685288640595903\n"
     ]
    }
   ],
   "source": [
    "# Evaluate the performance of the trained model\n",
    "print(\"Accuracy score on training set: \", accuracy_score(y_train, y_hat_train))\n",
    "print(\"Accuracy score on testing set: \", accuracy_score(y_test, y_hat_test))"
   ]
  },
  {
   "cell_type": "code",
   "execution_count": 24,
   "id": "e29de64a",
   "metadata": {},
   "outputs": [
    {
     "name": "stdout",
     "output_type": "stream",
     "text": [
      "Confusion matrix on test set: \n",
      "[[  0 178]\n",
      " [  0 359]]\n"
     ]
    }
   ],
   "source": [
    "# Checking confusion matrix\n",
    "print(\"Confusion matrix on test set: \")\n",
    "print(confusion_matrix(y_test, y_hat_test))"
   ]
  },
  {
   "cell_type": "code",
   "execution_count": 25,
   "id": "968a5b68",
   "metadata": {},
   "outputs": [
    {
     "name": "stdout",
     "output_type": "stream",
     "text": [
      "Confusion matrix on train set: \n",
      "[[   2  787]\n",
      " [   4 1355]]\n"
     ]
    }
   ],
   "source": [
    "print(\"Confusion matrix on train set: \")\n",
    "print(confusion_matrix(y_train, y_hat_train))"
   ]
  },
  {
   "cell_type": "markdown",
   "id": "1ef0489b",
   "metadata": {},
   "source": [
    "### Feature Selection"
   ]
  },
  {
   "cell_type": "code",
   "execution_count": 26,
   "id": "65db0141",
   "metadata": {},
   "outputs": [
    {
     "data": {
      "text/html": [
       "<style>#sk-container-id-2 {color: black;background-color: white;}#sk-container-id-2 pre{padding: 0;}#sk-container-id-2 div.sk-toggleable {background-color: white;}#sk-container-id-2 label.sk-toggleable__label {cursor: pointer;display: block;width: 100%;margin-bottom: 0;padding: 0.3em;box-sizing: border-box;text-align: center;}#sk-container-id-2 label.sk-toggleable__label-arrow:before {content: \"▸\";float: left;margin-right: 0.25em;color: #696969;}#sk-container-id-2 label.sk-toggleable__label-arrow:hover:before {color: black;}#sk-container-id-2 div.sk-estimator:hover label.sk-toggleable__label-arrow:before {color: black;}#sk-container-id-2 div.sk-toggleable__content {max-height: 0;max-width: 0;overflow: hidden;text-align: left;background-color: #f0f8ff;}#sk-container-id-2 div.sk-toggleable__content pre {margin: 0.2em;color: black;border-radius: 0.25em;background-color: #f0f8ff;}#sk-container-id-2 input.sk-toggleable__control:checked~div.sk-toggleable__content {max-height: 200px;max-width: 100%;overflow: auto;}#sk-container-id-2 input.sk-toggleable__control:checked~label.sk-toggleable__label-arrow:before {content: \"▾\";}#sk-container-id-2 div.sk-estimator input.sk-toggleable__control:checked~label.sk-toggleable__label {background-color: #d4ebff;}#sk-container-id-2 div.sk-label input.sk-toggleable__control:checked~label.sk-toggleable__label {background-color: #d4ebff;}#sk-container-id-2 input.sk-hidden--visually {border: 0;clip: rect(1px 1px 1px 1px);clip: rect(1px, 1px, 1px, 1px);height: 1px;margin: -1px;overflow: hidden;padding: 0;position: absolute;width: 1px;}#sk-container-id-2 div.sk-estimator {font-family: monospace;background-color: #f0f8ff;border: 1px dotted black;border-radius: 0.25em;box-sizing: border-box;margin-bottom: 0.5em;}#sk-container-id-2 div.sk-estimator:hover {background-color: #d4ebff;}#sk-container-id-2 div.sk-parallel-item::after {content: \"\";width: 100%;border-bottom: 1px solid gray;flex-grow: 1;}#sk-container-id-2 div.sk-label:hover label.sk-toggleable__label {background-color: #d4ebff;}#sk-container-id-2 div.sk-serial::before {content: \"\";position: absolute;border-left: 1px solid gray;box-sizing: border-box;top: 0;bottom: 0;left: 50%;z-index: 0;}#sk-container-id-2 div.sk-serial {display: flex;flex-direction: column;align-items: center;background-color: white;padding-right: 0.2em;padding-left: 0.2em;position: relative;}#sk-container-id-2 div.sk-item {position: relative;z-index: 1;}#sk-container-id-2 div.sk-parallel {display: flex;align-items: stretch;justify-content: center;background-color: white;position: relative;}#sk-container-id-2 div.sk-item::before, #sk-container-id-2 div.sk-parallel-item::before {content: \"\";position: absolute;border-left: 1px solid gray;box-sizing: border-box;top: 0;bottom: 0;left: 50%;z-index: -1;}#sk-container-id-2 div.sk-parallel-item {display: flex;flex-direction: column;z-index: 1;position: relative;background-color: white;}#sk-container-id-2 div.sk-parallel-item:first-child::after {align-self: flex-end;width: 50%;}#sk-container-id-2 div.sk-parallel-item:last-child::after {align-self: flex-start;width: 50%;}#sk-container-id-2 div.sk-parallel-item:only-child::after {width: 0;}#sk-container-id-2 div.sk-dashed-wrapped {border: 1px dashed gray;margin: 0 0.4em 0.5em 0.4em;box-sizing: border-box;padding-bottom: 0.4em;background-color: white;}#sk-container-id-2 div.sk-label label {font-family: monospace;font-weight: bold;display: inline-block;line-height: 1.2em;}#sk-container-id-2 div.sk-label-container {text-align: center;}#sk-container-id-2 div.sk-container {/* jupyter's `normalize.less` sets `[hidden] { display: none; }` but bootstrap.min.css set `[hidden] { display: none !important; }` so we also need the `!important` here to be able to override the default hidden behavior on the sphinx rendered scikit-learn.org. See: https://github.com/scikit-learn/scikit-learn/issues/21755 */display: inline-block !important;position: relative;}#sk-container-id-2 div.sk-text-repr-fallback {display: none;}</style><div id=\"sk-container-id-2\" class=\"sk-top-container\"><div class=\"sk-text-repr-fallback\"><pre>RFE(estimator=LogisticRegression(), n_features_to_select=1)</pre><b>In a Jupyter environment, please rerun this cell to show the HTML representation or trust the notebook. <br />On GitHub, the HTML representation is unable to render, please try loading this page with nbviewer.org.</b></div><div class=\"sk-container\" hidden><div class=\"sk-item sk-dashed-wrapped\"><div class=\"sk-label-container\"><div class=\"sk-label sk-toggleable\"><input class=\"sk-toggleable__control sk-hidden--visually\" id=\"sk-estimator-id-2\" type=\"checkbox\" ><label for=\"sk-estimator-id-2\" class=\"sk-toggleable__label sk-toggleable__label-arrow\">RFE</label><div class=\"sk-toggleable__content\"><pre>RFE(estimator=LogisticRegression(), n_features_to_select=1)</pre></div></div></div><div class=\"sk-parallel\"><div class=\"sk-parallel-item\"><div class=\"sk-item\"><div class=\"sk-label-container\"><div class=\"sk-label sk-toggleable\"><input class=\"sk-toggleable__control sk-hidden--visually\" id=\"sk-estimator-id-3\" type=\"checkbox\" ><label for=\"sk-estimator-id-3\" class=\"sk-toggleable__label sk-toggleable__label-arrow\">estimator: LogisticRegression</label><div class=\"sk-toggleable__content\"><pre>LogisticRegression()</pre></div></div></div><div class=\"sk-serial\"><div class=\"sk-item\"><div class=\"sk-estimator sk-toggleable\"><input class=\"sk-toggleable__control sk-hidden--visually\" id=\"sk-estimator-id-4\" type=\"checkbox\" ><label for=\"sk-estimator-id-4\" class=\"sk-toggleable__label sk-toggleable__label-arrow\">LogisticRegression</label><div class=\"sk-toggleable__content\"><pre>LogisticRegression()</pre></div></div></div></div></div></div></div></div></div></div>"
      ],
      "text/plain": [
       "RFE(estimator=LogisticRegression(), n_features_to_select=1)"
      ]
     },
     "execution_count": 26,
     "metadata": {},
     "output_type": "execute_result"
    }
   ],
   "source": [
    "# Creating RFE object\n",
    "lr_model = LogisticRegression()\n",
    "rfe = RFE(estimator=lr_model, n_features_to_select=1, step=1)\n",
    "rfe.fit(X_train, y_train)"
   ]
  },
  {
   "cell_type": "code",
   "execution_count": 27,
   "id": "a063f508",
   "metadata": {},
   "outputs": [
    {
     "name": "stdout",
     "output_type": "stream",
     "text": [
      "Accuracy score on test set:  0.6685288640595903\n"
     ]
    }
   ],
   "source": [
    "# Doing evaluation\n",
    "y_test_hat = rfe.predict(X_test)\n",
    "print(\"Accuracy score on test set: \", accuracy_score(y_test, y_test_hat))"
   ]
  },
  {
   "cell_type": "code",
   "execution_count": 28,
   "id": "49a0386a",
   "metadata": {},
   "outputs": [
    {
     "name": "stdout",
     "output_type": "stream",
     "text": [
      "Column: 0, Selected False, Rank: 9.000\n",
      "Column: 1, Selected False, Rank: 10.000\n",
      "Column: 2, Selected False, Rank: 5.000\n",
      "Column: 3, Selected False, Rank: 4.000\n",
      "Column: 4, Selected False, Rank: 7.000\n",
      "Column: 5, Selected False, Rank: 6.000\n",
      "Column: 6, Selected False, Rank: 2.000\n",
      "Column: 7, Selected True, Rank: 1.000\n",
      "Column: 8, Selected False, Rank: 8.000\n",
      "Column: 9, Selected False, Rank: 3.000\n"
     ]
    }
   ],
   "source": [
    "# Summarize all features\n",
    "for i in range(X_train.shape[1]):\n",
    "    print('Column: %d, Selected %s, Rank: %.3f' % (i, rfe.support_[i], rfe.ranking_[i]))"
   ]
  },
  {
   "cell_type": "code",
   "execution_count": 29,
   "id": "6ef8d723",
   "metadata": {},
   "outputs": [
    {
     "name": "stdout",
     "output_type": "stream",
     "text": [
      "Accuracy on test set using 1 features:  0.6685288640595903\n",
      "Accuracy on test set using 2 features:  0.6499068901303539\n",
      "Accuracy on test set using 3 features:  0.6554934823091247\n",
      "Accuracy on test set using 4 features:  0.6573556797020484\n",
      "Accuracy on test set using 5 features:  0.6554934823091247\n",
      "Accuracy on test set using 6 features:  0.6554934823091247\n",
      "Accuracy on test set using 7 features:  0.6517690875232774\n",
      "Accuracy on test set using 8 features:  0.6499068901303539\n",
      "Accuracy on test set using 9 features:  0.6722532588454376\n"
     ]
    }
   ],
   "source": [
    "# To increment number of features, one at each time\n",
    "acc_scores = []\n",
    "for i in range(1,10):\n",
    "    clf = LogisticRegression()\n",
    "    rfe = RFE(estimator=clf, n_features_to_select=i)\n",
    "    # Training model\n",
    "    rfe.fit(X_train, y_train)\n",
    "    # Predicting on test set\n",
    "    y_pred = rfe.predict(X_test)\n",
    "    acc_score = accuracy_score(y_test, y_pred)\n",
    "    # Print this\n",
    "    print(\"Accuracy on test set using\", i, \"features: \", acc_score)\n",
    "    # Append to the list\n",
    "    acc_scores.append(acc_score)"
   ]
  },
  {
   "cell_type": "code",
   "execution_count": 30,
   "id": "5c7a6bb9",
   "metadata": {},
   "outputs": [
    {
     "data": {
      "text/plain": [
       "[<matplotlib.lines.Line2D at 0x13417f550>]"
      ]
     },
     "execution_count": 30,
     "metadata": {},
     "output_type": "execute_result"
    },
    {
     "data": {
      "image/png": "[encoded data removed]",
      "text/plain": [
       "<Figure size 640x480 with 1 Axes>"
      ]
     },
     "metadata": {},
     "output_type": "display_data"
    }
   ],
   "source": [
    "# Estimating accuracy score on test set using RFE by using different number of features\n",
    "estimator = LogisticRegression()\n",
    "acc_scores = []\n",
    "for i in range(1, 10):\n",
    "    selector = RFE(estimator,n_features_to_select=i)\n",
    "    selector = selector.fit(X_train, y_train)\n",
    "    supp = selector.get_support()\n",
    "\n",
    "    predicted = selector.predict(X_test)\n",
    "    acc_score = accuracy_score(y_test, predicted)\n",
    "    acc_scores.append(acc_score)\n",
    "\n",
    "best = 1\n",
    "for item in acc_scores:\n",
    "    if item < acc_scores[best - 1]:\n",
    "        best = acc_scores.index(item) + 1\n",
    "\n",
    "plt.grid()\n",
    "plt.xlabel('# No. of features')\n",
    "plt.ylabel('Accuracy score on test set')\n",
    "plt.plot(range(1, 10), acc_scores, marker = 'o', color = 'lightblue', markeredgewidth = 1 ,markeredgecolor = 'lightblue', markerfacecolor = 'None')\n",
    "plt.plot(best, acc_scores[best-1], marker = 'o', markerfacecolor = 'lightblue')"
   ]
  },
  {
   "cell_type": "markdown",
   "id": "a29dad0f",
   "metadata": {},
   "source": [
    "#### Explanation\n",
    "From the summary of all feature results, we can observe that column 7 has the highest ranking. \n",
    "\n",
    "The accuracy score on the test set using RFE demonstrates the number of features for selection is one feature with the highest accuracy.\n",
    "\n",
    "Thus, it's advisable to select one feature to achieve the highest accuracy for this model."
   ]
  },
  {
   "cell_type": "markdown",
   "id": "5d8b1602",
   "metadata": {},
   "source": [
    "### 5. Split the dataset and train a KNN model to predict 'rating' based on other features. You can set K with an ad-hoc manner in this step. Evaluate the accuracy of your model."
   ]
  },
  {
   "cell_type": "markdown",
   "id": "3437c9f3",
   "metadata": {},
   "source": [
    "### Study model complexity w.r.t. K"
   ]
  },
  {
   "cell_type": "code",
   "execution_count": 31,
   "id": "485d38ea",
   "metadata": {},
   "outputs": [
    {
     "data": {
      "image/png": "[encoded data removed]",
      "text/plain": [
       "<Figure size 640x480 with 1 Axes>"
      ]
     },
     "metadata": {},
     "output_type": "display_data"
    }
   ],
   "source": [
    "# Generate a synthetica 2D dataset\n",
    "X, y = make_classification(n_samples=50, n_features=2, n_informative=2,\n",
    "                           n_redundant=0, n_classes=3, n_clusters_per_class=1, \n",
    "                           weights=None, flip_y=0.01, class_sep=0.5, hypercube=True,\n",
    "                           shift=0.0, scale=1.0, shuffle=True, random_state=None)\n",
    "\n",
    "# Data split\n",
    "X_train, X_test, y_train, y_test = train_test_split(X, y, test_size=.2, random_state=42)\n",
    "\n",
    "\n",
    "# Visualize the generated data\n",
    "colors = ['blue', 'yellow', 'green']\n",
    "for i, color in enumerate(colors):\n",
    "    plt.scatter(X_train[y_train == i, 0], X_train[y_train == i, 1], c=color)\n",
    "plt.scatter(X_test[:, 0], X_test[:,1], c='red', marker='x', label='Testing Data')\n",
    "plt.legend(loc='best')\n",
    "plt.show()"
   ]
  },
  {
   "cell_type": "code",
   "execution_count": 32,
   "id": "c41f7267",
   "metadata": {},
   "outputs": [
    {
     "name": "stdout",
     "output_type": "stream",
     "text": [
      "Testing accuracy is:  0.4\n"
     ]
    }
   ],
   "source": [
    "# Create and training a KNN classifier model\n",
    "clf = KNeighborsClassifier(n_neighbors = 10)\n",
    "clf.fit(X_train, y_train)\n",
    "\n",
    "# Use the model to predict testing data\n",
    "y_pred = clf.predict(X_test)\n",
    "accuracy = accuracy_score(y_pred, y_test)\n",
    "print('Testing accuracy is: ', accuracy)"
   ]
  },
  {
   "cell_type": "code",
   "execution_count": 33,
   "id": "8669c489",
   "metadata": {},
   "outputs": [
    {
     "data": {
      "image/png": "[encoded data removed]",
      "text/plain": [
       "<Figure size 640x480 with 1 Axes>"
      ]
     },
     "metadata": {},
     "output_type": "display_data"
    }
   ],
   "source": [
    "# Plot the accuracy trend w.r.t. K\n",
    "training_error=list()\n",
    "testing_error=list()\n",
    "\n",
    "for i in range(1, 41):\n",
    "    clf = KNeighborsClassifier(n_neighbors = i)\n",
    "    clf.fit(X_train, y_train)\n",
    "    training_error.append(1.0-accuracy_score(clf.predict(X_train), y_train))\n",
    "    testing_error.append(1.0-accuracy_score(clf.predict(X_test), y_test))\n",
    "\n",
    "# Plot the relationship\n",
    "plt.plot(range(1, 41), training_error, marker='x', label='Trainining Error')\n",
    "plt.plot(range(1, 41), testing_error, marker='o', label='Testing Error')\n",
    "plt.xlabel('K')\n",
    "plt.ylabel('Error')\n",
    "plt.legend(loc='best')\n",
    "plt.show()"
   ]
  },
  {
   "cell_type": "markdown",
   "id": "c6b1422b",
   "metadata": {},
   "source": [
    "### k-fold cross validation"
   ]
  },
  {
   "cell_type": "code",
   "execution_count": 34,
   "id": "1e8f76b1",
   "metadata": {},
   "outputs": [
    {
     "name": "stdout",
     "output_type": "stream",
     "text": [
      "Accuracy for each round: \n",
      " [0.4 0.6 0.4 0.6 0.4 0.4 0.2 0.6 0.8 0.6]\n",
      "Average accuracy: 0.5000 +- 0.1612\n"
     ]
    }
   ],
   "source": [
    "# Create a KNN classifier model and use k-fold cross validation for testing accuracy estimation\n",
    "clf = KNeighborsClassifier(n_neighbors = 10)\n",
    "scores = cross_val_score(clf, X, y, cv=10)\n",
    "print('Accuracy for each round: \\n', scores)\n",
    "print('Average accuracy: %.4f +- %.4f' % (scores.mean(), scores.std()))"
   ]
  },
  {
   "cell_type": "markdown",
   "id": "47185a0e",
   "metadata": {},
   "source": [
    "### 6. Tune the hyper-parameter K in KNN to see how it influences the prediction performance\n"
   ]
  },
  {
   "cell_type": "code",
   "execution_count": 35,
   "id": "8698391f",
   "metadata": {},
   "outputs": [
    {
     "name": "stdout",
     "output_type": "stream",
     "text": [
      "Best K value:  26\n",
      "The accuracy:  0.6399999999999999\n"
     ]
    }
   ],
   "source": [
    "# Define search space for parameters\n",
    "parameter_grid = {'n_neighbors': range(1, 41)}\n",
    "\n",
    "# Create the machine learning model\n",
    "knn_clf = KNeighborsClassifier()\n",
    "clf = GridSearchCV(knn_clf, parameter_grid, scoring='accuracy', cv=10)\n",
    "clf.fit(X, y)\n",
    "\n",
    "# Identify the best parameter(s)\n",
    "print('Best K value: ', clf.best_params_['n_neighbors'])\n",
    "print('The accuracy: ', clf.best_score_)"
   ]
  },
  {
   "cell_type": "markdown",
   "id": "e80a0cfe",
   "metadata": {},
   "source": [
    "### Discuss the performance of Logistic Regression model and KNN model for solving this classification problem"
   ]
  },
  {
   "cell_type": "code",
   "execution_count": 36,
   "id": "1a1c9331",
   "metadata": {},
   "outputs": [
    {
     "name": "stdout",
     "output_type": "stream",
     "text": [
      "The KNN model accuracy:  0.6399999999999999\n",
      "The Logistic Regression model accuracy:  0.6722532588454376\n"
     ]
    }
   ],
   "source": [
    "# Display the accuracy result of two models\n",
    "print('The KNN model accuracy: ', clf.best_score_)\n",
    "print('The Logistic Regression model accuracy: ', np.max(acc_scores))"
   ]
  },
  {
   "cell_type": "markdown",
   "id": "7ac10648",
   "metadata": {},
   "source": [
    "#### Comparison between two models' accuracy result\n",
    "Based on the result of the KNN model accuracy and the Logistic Regression model accuracy, we can observe that the KNN model can produce a higher accuracy percentage compared to the Logistic Regression model."
   ]
  },
  {
   "cell_type": "code",
   "execution_count": 37,
   "id": "f96101ef",
   "metadata": {},
   "outputs": [
    {
     "data": {
      "text/plain": [
       "(0.5, 0.9)"
      ]
     },
     "execution_count": 37,
     "metadata": {},
     "output_type": "execute_result"
    },
    {
     "data": {
      "image/png": "[encoded data removed]",
      "text/plain": [
       "<Figure size 640x480 with 1 Axes>"
      ]
     },
     "metadata": {},
     "output_type": "display_data"
    }
   ],
   "source": [
    "# Plot the accuracy result of KNN model and Logistic Regression model\n",
    "sns.barplot(x = ['KNN Model', 'Logistic Regression Model'], y = [clf.best_score_, np.max(acc_scores)]).set(title = \"Model Comparison\", ylabel = 'Accuracy', xlabel = 'Model')\n",
    "\n",
    "# Set the scale for the y-axis from 0.5 to 0.9 as the accuracy of two models are within this range\n",
    "plt.ylim(0.5, 0.9)\n"
   ]
  },
  {
   "cell_type": "markdown",
   "id": "485d8076",
   "metadata": {},
   "source": [
    "#### Summary\n",
    "For further confirmation of the above statement, the graph depicts the two models' accuracy results.\n",
    "\n",
    "From the bar chart, we can conclude that the accuracy of the KNN model is higher than the Logistic Regression model. Therefore, the KNN model generates higher accuracy test results to compare with the Logistic Regression model."
   ]
  }
 ],
 "metadata": {
  "colab": {
   "provenance": []
  },
  "kernelspec": {
   "display_name": "Python 3 (ipykernel)",
   "language": "python",
   "name": "python3"
  },
  "language_info": {
   "codemirror_mode": {
    "name": "ipython",
    "version": 3
   },
   "file_extension": ".py",
   "mimetype": "text/x-python",
   "name": "python",
   "nbconvert_exporter": "python",
   "pygments_lexer": "ipython3",
   "version": "3.11.3"
  }
 },
 "nbformat": 4,
 "nbformat_minor": 5
}
